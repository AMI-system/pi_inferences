{
 "cells": [
  {
   "cell_type": "code",
   "execution_count": 2,
   "metadata": {},
   "outputs": [
    {
     "name": "stderr",
     "output_type": "stream",
     "text": [
      "2024-01-22 11:33:41.029561: I tensorflow/core/util/port.cc:110] oneDNN custom operations are on. You may see slightly different numerical results due to floating-point round-off errors from different computation orders. To turn them off, set the environment variable `TF_ENABLE_ONEDNN_OPTS=0`.\n",
      "2024-01-22 11:33:41.111489: I tensorflow/tsl/cuda/cudart_stub.cc:28] Could not find cuda drivers on your machine, GPU will not be used.\n",
      "2024-01-22 11:33:41.334937: I tensorflow/tsl/cuda/cudart_stub.cc:28] Could not find cuda drivers on your machine, GPU will not be used.\n",
      "2024-01-22 11:33:41.336552: I tensorflow/core/platform/cpu_feature_guard.cc:182] This TensorFlow binary is optimized to use available CPU instructions in performance-critical operations.\n",
      "To enable the following instructions: AVX2 AVX512F AVX512_VNNI FMA, in other operations, rebuild TensorFlow with the appropriate compiler flags.\n",
      "2024-01-22 11:33:49.652388: W tensorflow/compiler/tf2tensorrt/utils/py_utils.cc:38] TF-TRT Warning: Could not find TensorRT\n"
     ]
    }
   ],
   "source": [
    "import cv2\n",
    "from tflite_support.task import core\n",
    "from tflite_support.task import processor\n",
    "from tflite_support.task import vision\n",
    "\n",
    "import os\n",
    "from PIL import Image"
   ]
  },
  {
   "cell_type": "code",
   "execution_count": 3,
   "metadata": {},
   "outputs": [],
   "source": [
    "model = '/bask/homes/f/fspo1218/amber/projects/binary_moth_detector/output_models/gbif_model.tflite'\n",
    "enable_edgetpu = False\n",
    "num_threads = 1"
   ]
  },
  {
   "cell_type": "code",
   "execution_count": 4,
   "metadata": {},
   "outputs": [
    {
     "name": "stderr",
     "output_type": "stream",
     "text": [
      "INFO: Created TensorFlow Lite XNNPACK delegate for CPU.\n"
     ]
    }
   ],
   "source": [
    "base_options = core.BaseOptions(file_name=model, use_coral=enable_edgetpu, num_threads=num_threads)\n",
    "detection_options = processor.DetectionOptions(max_results=20, score_threshold=0.1)\n",
    "options = vision.ObjectDetectorOptions(base_options=base_options, detection_options=detection_options)\n",
    "detector = vision.ObjectDetector.create_from_options(options)"
   ]
  },
  {
   "cell_type": "code",
   "execution_count": 5,
   "metadata": {},
   "outputs": [],
   "source": [
    "def get_detections(detection_result):\n",
    "    detections_list = []\n",
    "\n",
    "    for counter, detection in enumerate(detection_result.detections, start=1):\n",
    "        bounding_box = detection.bounding_box\n",
    "        origin_x, origin_y, width, height = (\n",
    "            bounding_box.origin_x, bounding_box.origin_y,\n",
    "            bounding_box.width, bounding_box.height,\n",
    "        )\n",
    "\n",
    "        category_info = detection.categories[0]  # Assuming one category per detection\n",
    "        category_dict = {\n",
    "            'index': category_info.index,\n",
    "            'score': category_info.score,\n",
    "            'display_name': category_info.display_name,\n",
    "            'category_name': category_info.category_name,\n",
    "        }\n",
    "\n",
    "        detection_dict = {\n",
    "            'counter': counter,\n",
    "            'bounding_box': {\n",
    "                'origin_x': origin_x, 'origin_y': origin_y,\n",
    "                'width': width, 'height': height,\n",
    "            },\n",
    "            'categories': [category_dict],\n",
    "        }\n",
    "\n",
    "        detections_list.append(detection_dict)\n",
    "        \n",
    "        return(detections_list)"
   ]
  },
  {
   "cell_type": "code",
   "execution_count": 10,
   "metadata": {},
   "outputs": [
    {
     "name": "stdout",
     "output_type": "stream",
     "text": [
      "ami_ami_20230722000018-00-35.jpg\n",
      "DetectionResult(detections=[Detection(bounding_box=BoundingBox(origin_x=223, origin_y=1541, width=328, height=247), categories=[Category(index=0, score=0.39453125, display_name='', category_name='moth')]), Detection(bounding_box=BoundingBox(origin_x=1835, origin_y=0, width=231, height=75), categories=[Category(index=1, score=0.30078125, display_name='', category_name='nonmoth')]), Detection(bounding_box=BoundingBox(origin_x=3387, origin_y=1699, width=140, height=129), categories=[Category(index=1, score=0.26953125, display_name='', category_name='nonmoth')]), Detection(bounding_box=BoundingBox(origin_x=965, origin_y=1888, width=172, height=201), categories=[Category(index=0, score=0.234375, display_name='', category_name='moth')]), Detection(bounding_box=BoundingBox(origin_x=3165, origin_y=331, width=251, height=157), categories=[Category(index=1, score=0.2109375, display_name='', category_name='nonmoth')]), Detection(bounding_box=BoundingBox(origin_x=1221, origin_y=200, width=102, height=168), categories=[Category(index=0, score=0.1796875, display_name='', category_name='moth')]), Detection(bounding_box=BoundingBox(origin_x=1256, origin_y=793, width=551, height=623), categories=[Category(index=1, score=0.16015625, display_name='', category_name='nonmoth')]), Detection(bounding_box=BoundingBox(origin_x=3302, origin_y=1701, width=233, height=153), categories=[Category(index=1, score=0.13671875, display_name='', category_name='nonmoth')]), Detection(bounding_box=BoundingBox(origin_x=494, origin_y=1241, width=103, height=152), categories=[Category(index=0, score=0.1328125, display_name='', category_name='moth')]), Detection(bounding_box=BoundingBox(origin_x=3264, origin_y=403, width=171, height=87), categories=[Category(index=1, score=0.125, display_name='', category_name='nonmoth')]), Detection(bounding_box=BoundingBox(origin_x=221, origin_y=1095, width=151, height=83), categories=[Category(index=1, score=0.125, display_name='', category_name='nonmoth')])])\n",
      "Galleria_mellonella_1655889607.jpg\n",
      "DetectionResult(detections=[Detection(bounding_box=BoundingBox(origin_x=5, origin_y=21, width=614, height=458), categories=[Category(index=0, score=0.6171875, display_name='', category_name='moth')]), Detection(bounding_box=BoundingBox(origin_x=23, origin_y=303, width=128, height=180), categories=[Category(index=0, score=0.30078125, display_name='', category_name='moth')]), Detection(bounding_box=BoundingBox(origin_x=0, origin_y=195, width=159, height=276), categories=[Category(index=0, score=0.171875, display_name='', category_name='moth')]), Detection(bounding_box=BoundingBox(origin_x=0, origin_y=39, width=217, height=447), categories=[Category(index=0, score=0.140625, display_name='', category_name='moth')]), Detection(bounding_box=BoundingBox(origin_x=0, origin_y=0, width=236, height=192), categories=[Category(index=1, score=0.10546875, display_name='', category_name='nonmoth')])])\n",
      "Galleria_mellonella_2252052978.jpg\n",
      "DetectionResult(detections=[Detection(bounding_box=BoundingBox(origin_x=222, origin_y=226, width=543, height=236), categories=[Category(index=0, score=0.71875, display_name='', category_name='moth')]), Detection(bounding_box=BoundingBox(origin_x=221, origin_y=230, width=667, height=377), categories=[Category(index=0, score=0.12109375, display_name='', category_name='moth')])])\n",
      "Diaphania_indica_3994342517.jpg\n",
      "DetectionResult(detections=[Detection(bounding_box=BoundingBox(origin_x=480, origin_y=490, width=902, height=661), categories=[Category(index=0, score=0.48828125, display_name='', category_name='moth')]), Detection(bounding_box=BoundingBox(origin_x=724, origin_y=946, width=224, height=197), categories=[Category(index=1, score=0.3203125, display_name='', category_name='nonmoth')])])\n"
     ]
    }
   ],
   "source": [
    "# list images in path\n",
    "images = os.listdir('/bask/homes/f/fspo1218/amber/data/test_images/raw/')\n",
    "output_directory = '/bask/homes/f/fspo1218/amber/data/test_images/crop_test/'\n",
    "\n",
    "for image_path in images:\n",
    "    image = cv2.imread('/bask/homes/f/fspo1218/amber/data/test_images/raw/' + image_path)\n",
    "    image = cv2.cvtColor(image, cv2.COLOR_BGR2RGB)\n",
    "\n",
    "    # Create a TensorImage object from the RGB image.\n",
    "    input_tensor = vision.TensorImage.create_from_array(image)\n",
    "    \n",
    "    # Get the inferences \n",
    "    detection_result = detector.detect(input_tensor)    \n",
    "    detections_list = get_detections(detection_result)\n",
    "    print(detection_result)\n",
    "    \n",
    "    counter = 1\n",
    "    \n",
    "    # Draw bounding boxes on the image\n",
    "    for detection in detections_list:\n",
    "        bounding_box = detection['bounding_box']\n",
    "        origin_x, origin_y, width, height = (\n",
    "                bounding_box['origin_x'],\n",
    "                bounding_box['origin_y'],\n",
    "                bounding_box['width'],\n",
    "                bounding_box['height'],\n",
    "            )\n",
    "\n",
    "        # Crop the original image\n",
    "        cropped_image = image[origin_y:origin_y + height, origin_x:origin_x + width]\n",
    "\n",
    "        # Save the cropped image\n",
    "        category_name = detection['categories'][0]['category_name']\n",
    "        basepath = os.path.basename(image_path)\n",
    "        save_path = os.path.join(output_directory, f'{basepath}_{counter}_{category_name}.jpg')  \n",
    "        counter += 1\n",
    "        Image.fromarray(cropped_image).save(save_path)"
   ]
  },
  {
   "cell_type": "code",
   "execution_count": null,
   "metadata": {},
   "outputs": [],
   "source": []
  }
 ],
 "metadata": {
  "kernelspec": {
   "display_name": "Python 3",
   "language": "python",
   "name": "python3"
  },
  "language_info": {
   "codemirror_mode": {
    "name": "ipython",
    "version": 3
   },
   "file_extension": ".py",
   "mimetype": "text/x-python",
   "name": "python",
   "nbconvert_exporter": "python",
   "pygments_lexer": "ipython3",
   "version": "3.9.17"
  }
 },
 "nbformat": 4,
 "nbformat_minor": 2
}
